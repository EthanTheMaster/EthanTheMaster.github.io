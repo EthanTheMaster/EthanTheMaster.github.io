{
 "cells": [
  {
   "cell_type": "code",
   "execution_count": 1,
   "metadata": {},
   "outputs": [],
   "source": [
    "using SymPy, Latexify"
   ]
  },
  {
   "cell_type": "markdown",
   "metadata": {},
   "source": [
    "# Problem 2b "
   ]
  },
  {
   "cell_type": "code",
   "execution_count": 2,
   "metadata": {},
   "outputs": [
    {
     "data": {
      "text/latex": [
       "$\\begin{equation*}\\frac{c m x y \\left(- \\frac{m x}{\\left(a + x\\right)^{2}} + \\frac{m}{a + x}\\right)}{a + x} + \\left(- d + \\frac{m x}{a + x} - λ\\right) \\left(\\frac{c m x y}{\\left(a + x\\right)^{2}} - \\frac{c m y}{a + x} + γ \\left(1 - \\frac{x}{K}\\right) - λ - \\frac{x γ}{K}\\right)\\end{equation*}$\n"
      ],
      "text/plain": [
       "        ⎛    m⋅x        m  ⎞                                                  \n",
       "c⋅m⋅x⋅y⋅⎜- ──────── + ─────⎟                                                  \n",
       "        ⎜         2   a + x⎟                                                  \n",
       "        ⎝  (a + x)         ⎠   ⎛      m⋅x     ⎞ ⎛c⋅m⋅x⋅y    c⋅m⋅y     ⎛    x⎞ \n",
       "──────────────────────────── + ⎜-d + ───── - λ⎟⋅⎜──────── - ───── + γ⋅⎜1 - ─⎟ \n",
       "           a + x               ⎝     a + x    ⎠ ⎜       2   a + x     ⎝    K⎠ \n",
       "                                                ⎝(a + x)                      \n",
       "\n",
       "          \n",
       "          \n",
       "          \n",
       "      x⋅γ⎞\n",
       "- λ - ───⎟\n",
       "       K ⎟\n",
       "         ⎠"
      ]
     },
     "execution_count": 2,
     "metadata": {},
     "output_type": "execute_result"
    }
   ],
   "source": [
    "# Set up variables\n",
    "@vars x y a c d K m γ λ\n",
    "\n",
    "f1 = γ * x * (1 - x/K) - c * y * (m*x)/(a + x)\n",
    "f2 = (m*x / (a + x) - d) * y\n",
    "\n",
    "# Compute pieces of the variation matrix\n",
    "f1_x = diff(f1, x)\n",
    "f1_y = diff(f1, y)\n",
    "f2_x = diff(f2, x)\n",
    "f2_y = diff(f2, y)\n",
    "\n",
    "characteristic_polynomial = (f1_x - λ)*(f2_y - λ) - f2_x * f1_y"
   ]
  },
  {
   "cell_type": "markdown",
   "metadata": {},
   "source": [
    "We have an equilibrium point $(x, y) = (0, 0)$ and we look at the eigenvalues of the linearized system about this point."
   ]
  },
  {
   "cell_type": "code",
   "execution_count": 3,
   "metadata": {},
   "outputs": [
    {
     "data": {
      "text/latex": [
       "$\\left[ \\begin{array}{r}- d\\\\γ\\end{array} \\right]$\n"
      ],
      "text/plain": [
       "2-element Vector{Sym}:\n",
       " -d\n",
       "  γ"
      ]
     },
     "execution_count": 3,
     "metadata": {},
     "output_type": "execute_result"
    }
   ],
   "source": [
    "solve(subs(characteristic_polynomial, x => 0, y => 0) ~ 0, λ)"
   ]
  },
  {
   "cell_type": "markdown",
   "metadata": {},
   "source": [
    "Because $d, \\gamma > 0$, we see that both eigenvalues are nonzero and have opposite sign. Therefore in the linearized system, we have a saddle point. In the nonlinear system, this saddle point behavior also appears (in some topological sense) as we see that this equilibrium point is hyperbolic (CASE 2B-1)."
   ]
  },
  {
   "cell_type": "markdown",
   "metadata": {},
   "source": [
    "We have another equilibrium point at $(x, y) = (K, 0)$"
   ]
  },
  {
   "cell_type": "code",
   "execution_count": 4,
   "metadata": {},
   "outputs": [
    {
     "data": {
      "text/latex": [
       "$\\left[ \\begin{array}{r}- γ\\\\\\frac{- K d + K m - a d}{K + a}\\end{array} \\right]$\n"
      ],
      "text/plain": [
       "2-element Vector{Sym}:\n",
       "                         -γ\n",
       " (-K*d + K*m - a*d)/(K + a)"
      ]
     },
     "execution_count": 4,
     "metadata": {},
     "output_type": "execute_result"
    }
   ],
   "source": [
    "solve(subs(characteristic_polynomial, x => K, y => 0) ~ 0, λ)"
   ]
  },
  {
   "cell_type": "markdown",
   "metadata": {},
   "source": [
    "Here we can see the eigenvalues of the linearized system at this equilibrium point. Clearly $-\\gamma$ is negative but the sign of the other eigenvalue is not clear. In fact there are a few cases we need to consider. \n",
    "\n",
    "- If $-Kd + Km - ad > 0$ then we have a saddle point in both the linearized and nonlinear system (as this equilibrium point would be hyperbolic). (CASE 2B-2)\n",
    "- If $ -Kd + Km - ad < 0 $ then we would have both eigenvalues be negative resulting in both the linearized and nonlinear system having an asymptotically stable equilibrium point at this location. (CASE 2B-3)\n",
    "- If $-Kd + Km - ad = 0$ then in the linearized system we would have infinitely many equilibrium points lying on a line passing through this equilibrium point and the points off this line would be attracted towards the line as $-\\gamma < 0$. (CASE 2B-4)"
   ]
  },
  {
   "cell_type": "markdown",
   "metadata": {},
   "source": [
    "We have another equilibrium point at \n",
    "$$\n",
    "(x, y) = \\left(x^*, \\frac{\\gamma \\left(1 - \\frac{x^*}{K}\\right)(a + x^*)}{cm} \\right)\n",
    "$$\n",
    "where\n",
    "$$\n",
    "x^* = \\frac{ad}{m - d}\n",
    "$$"
   ]
  },
  {
   "cell_type": "code",
   "execution_count": 5,
   "metadata": {},
   "outputs": [
    {
     "data": {
      "text/latex": [
       "$\\left[ \\begin{array}{r}\\frac{d γ \\left(K d - K m + a d + a m\\right) - \\sqrt{d γ \\left(4 K^{2} d^{3} m + K^{2} d^{3} γ - 12 K^{2} d^{2} m^{2} - 2 K^{2} d^{2} m γ + 12 K^{2} d m^{3} + K^{2} d m^{2} γ - 4 K^{2} m^{4} + 4 K a d^{3} m + 2 K a d^{3} γ - 8 K a d^{2} m^{2} + 4 K a d m^{3} - 2 K a d m^{2} γ + a^{2} d^{3} γ + 2 a^{2} d^{2} m γ + a^{2} d m^{2} γ\\right)}}{2 K m \\left(d - m\\right)}\\\\\\frac{d γ \\left(K d - K m + a d + a m\\right) + \\sqrt{d γ \\left(4 K^{2} d^{3} m + K^{2} d^{3} γ - 12 K^{2} d^{2} m^{2} - 2 K^{2} d^{2} m γ + 12 K^{2} d m^{3} + K^{2} d m^{2} γ - 4 K^{2} m^{4} + 4 K a d^{3} m + 2 K a d^{3} γ - 8 K a d^{2} m^{2} + 4 K a d m^{3} - 2 K a d m^{2} γ + a^{2} d^{3} γ + 2 a^{2} d^{2} m γ + a^{2} d m^{2} γ\\right)}}{2 K m \\left(d - m\\right)}\\end{array} \\right]$\n"
      ],
      "text/plain": [
       "2-element Vector{Sym}:\n",
       " (d*γ*(K*d - K*m + a*d + a*m) - sqrt(d*γ*(4*K^2*d^3*m + K^2*d^3*γ - 12*K^2*d^2*m^2 - 2*K^2*d^2*m*γ + 12*K^2*d*m^3 + K^2*d*m^2*γ - 4*K^2*m^4 + 4*K*a*d^3*m + 2*K*a*d^3*γ - 8*K*a*d^2*m^2 + 4*K*a*d*m^3 - 2*K*a*d*m^2*γ + a^2*d^3*γ + 2*a^2*d^2*m*γ + a^2*d*m^2*γ)))/(2*K*m*(d - m))\n",
       " (d*γ*(K*d - K*m + a*d + a*m) + sqrt(d*γ*(4*K^2*d^3*m + K^2*d^3*γ - 12*K^2*d^2*m^2 - 2*K^2*d^2*m*γ + 12*K^2*d*m^3 + K^2*d*m^2*γ - 4*K^2*m^4 + 4*K*a*d^3*m + 2*K*a*d^3*γ - 8*K*a*d^2*m^2 + 4*K*a*d*m^3 - 2*K*a*d*m^2*γ + a^2*d^3*γ + 2*a^2*d^2*m*γ + a^2*d*m^2*γ)))/(2*K*m*(d - m))"
      ]
     },
     "execution_count": 5,
     "metadata": {},
     "output_type": "execute_result"
    }
   ],
   "source": [
    "x_star = (a*d)/(m - d)\n",
    "y_star = γ * (1 - x_star / K) * (a + x_star) / (c*m)\n",
    "solve(subs(characteristic_polynomial, x => x_star, y => y_star) ~ 0, λ)"
   ]
  },
  {
   "cell_type": "markdown",
   "metadata": {},
   "source": [
    "For notational simplicity, let the eigenvalues above have the following form\n",
    "$$\n",
    "\\frac{p \\pm \\sqrt{\\Delta}}{2Km(d-m)}\n",
    "$$"
   ]
  },
  {
   "cell_type": "markdown",
   "metadata": {},
   "source": [
    "We have a few cases to consider. First consider if $\\Delta < 0$, then the eigenvalues will have a complex component. However to evaluate the stability around an equilibrium point, we need only to look at the real component $\\frac{p}{2Km(d-m)}$. \n",
    "- If this quantity is positive then both eigenvalues will have positive real component. Both the linearized and nonlinear system (in some topological sense) will be unstable about this equilibrium point. \n",
    "- If the quantity is negative then both the linearized and nonlinear system will be asymptotically stable about this equilibrium point. \n",
    "- Finally, if the quantity is $0$ then in the linearized system we will have a center about this equilibrium point.\n",
    "\n",
    "However, if $\\Delta \\geq 0$ then we have a few cases to consider. \n",
    "- Suppose $\\frac{p}{2Km(d-m)} > 0$\n",
    "    - If $\\left| \\frac{\\sqrt{\\Delta}}{2Km(d-m)} \\right| < \\left| \\frac{p}{2Km(d-m)} \\right|$, then both eigenvalues will have positive real part leading to unstable behavior around this equilibrium point in both the linearized and nonlinear system as this equilibrium point is hyperbolic. (CASE 2B-5)\n",
    "    - If $\\left| \\frac{\\sqrt{\\Delta}}{2Km(d-m)} \\right| > \\left| \\frac{p}{2Km(d-m)} \\right|$, then one eigenvalue will have positive real part and the other will have negative real part leading to a saddle point around this equilibrium in both the linearized and nonlinear system as this equilibrium point is hyperbolic. (CASE 2B-6)\n",
    "    - If $\\left| \\frac{\\sqrt{\\Delta}}{2Km(d-m)} \\right| = \\left| \\frac{p}{2Km(d-m)} \\right|$, then we will have a positive eigenvalue and $0$ as an eigenvalue. In the linearized system, we will have infinitely many equilibrium points along a line and points off that line will be repelled away from the line. (CASE 2B-7)\n",
    "- Suppose $\\frac{p}{2Km(d-m)} < 0$\n",
    "    - If $\\left| \\frac{\\sqrt{\\Delta}}{2Km(d-m)} \\right| < \\left| \\frac{p}{2Km(d-m)} \\right|$, then both eigenvalues will have negative real part leading to asymptotically stable behavior around this equilibrium point in both the linearized and nonlinear system. (CASE 2B-8)\n",
    "    - If $\\left| \\frac{\\sqrt{\\Delta}}{2Km(d-m)} \\right| > \\left| \\frac{p}{2Km(d-m)} \\right|$ then one eigenvalue will have positive real part and the other will have negative real part leading to a saddle point around this equilibrium in both the linearized and nonlinear system as this equilibrium point is hyperbolic. (CASE 2B-9)\n",
    "    - If $\\left| \\frac{\\sqrt{\\Delta}}{2Km(d-m)} \\right| = \\left| \\frac{p}{2Km(d-m)} \\right|$, then we will have a negative eigenvalue and $0$ as an eigenvalue. In the linearized system, we will have infinitely many equilibrium points along a line and points off that line will be attracted towards the line. (CASE 2B-10)\n",
    "- Suppose $\\frac{p}{2Km(d-m)} = 0$\n",
    "    - If $\\left| \\frac{\\sqrt{\\Delta}}{2Km(d-m)} \\right| > 0$, then one eigenvalue will have positive real part and the other will have negative real part leading to a saddle point around this equilibrium point in both the linearized and nonlinear system. (CASE 2B-11)\n",
    "    - If $\\left| \\frac{\\sqrt{\\Delta}}{2Km(d-m)} \\right| = \\left| \\frac{p}{2Km(d-m)} \\right|$, then in the linearized system we would have infinitely many equilibrium points lying on a line due to having an eigenvector with eigenvalue $0$. (CASE 2B-12)"
   ]
  }
 ],
 "metadata": {
  "kernelspec": {
   "display_name": "Julia 1.6.2",
   "language": "julia",
   "name": "julia-1.6"
  },
  "language_info": {
   "file_extension": ".jl",
   "mimetype": "application/julia",
   "name": "julia",
   "version": "1.6.2"
  },
  "orig_nbformat": 4
 },
 "nbformat": 4,
 "nbformat_minor": 2
}
